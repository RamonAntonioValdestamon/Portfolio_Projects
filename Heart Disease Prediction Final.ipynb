{
 "cells": [
  {
   "cell_type": "markdown",
   "id": "2b02846f-5a32-4acb-9df7-946dd3900259",
   "metadata": {},
   "source": [
    "## Importing primary libraries"
   ]
  },
  {
   "cell_type": "code",
   "execution_count": 1,
   "id": "0b339eca-7e18-494b-921f-5ca1b933ea74",
   "metadata": {},
   "outputs": [],
   "source": [
    "import pandas as pd\n",
    "import matplotlib.pyplot as plt\n",
    "import numpy as np"
   ]
  },
  {
   "cell_type": "markdown",
   "id": "94c1489f-dd13-4d48-9b63-5361d176caaa",
   "metadata": {},
   "source": [
    "## Importing machine learning libraries"
   ]
  },
  {
   "cell_type": "code",
   "execution_count": 2,
   "id": "fb7599f6-09c9-4c93-802e-c6cb0370c425",
   "metadata": {},
   "outputs": [],
   "source": [
    "from sklearn.model_selection import train_test_split, RandomizedSearchCV\n",
    "from sklearn.preprocessing import StandardScaler\n",
    "from sklearn.neighbors import KNeighborsClassifier\n",
    "from sklearn.svm import SVC\n",
    "from sklearn.tree import DecisionTreeClassifier\n",
    "from sklearn.ensemble import RandomForestClassifier, GradientBoostingClassifier"
   ]
  },
  {
   "cell_type": "markdown",
   "id": "ca84cf8b-3943-4d22-bf24-dd58605a6666",
   "metadata": {},
   "source": [
    "## Importing Dataset"
   ]
  },
  {
   "cell_type": "code",
   "execution_count": 3,
   "id": "4079e48d-72a3-4fee-8758-104cae90a56d",
   "metadata": {},
   "outputs": [
    {
     "name": "stdout",
     "output_type": "stream",
     "text": [
      "<class 'pandas.core.frame.DataFrame'>\n",
      "RangeIndex: 303 entries, 0 to 302\n",
      "Data columns (total 14 columns):\n",
      " #   Column    Non-Null Count  Dtype  \n",
      "---  ------    --------------  -----  \n",
      " 0   age       303 non-null    int64  \n",
      " 1   sex       303 non-null    int64  \n",
      " 2   cp        303 non-null    int64  \n",
      " 3   trestbps  303 non-null    int64  \n",
      " 4   chol      303 non-null    int64  \n",
      " 5   fbs       303 non-null    int64  \n",
      " 6   restecg   303 non-null    int64  \n",
      " 7   thalach   303 non-null    int64  \n",
      " 8   exang     303 non-null    int64  \n",
      " 9   oldpeak   303 non-null    float64\n",
      " 10  slope     303 non-null    int64  \n",
      " 11  ca        303 non-null    int64  \n",
      " 12  thal      303 non-null    int64  \n",
      " 13  target    303 non-null    int64  \n",
      "dtypes: float64(1), int64(13)\n",
      "memory usage: 33.3 KB\n"
     ]
    }
   ],
   "source": [
    "data = pd.read_csv('heart.csv')\n",
    "data.info()"
   ]
  },
  {
   "cell_type": "code",
   "execution_count": 4,
   "id": "09e9e6da-b318-4e66-af33-359d2161eb6e",
   "metadata": {},
   "outputs": [
    {
     "data": {
      "text/html": [
       "<div>\n",
       "<style scoped>\n",
       "    .dataframe tbody tr th:only-of-type {\n",
       "        vertical-align: middle;\n",
       "    }\n",
       "\n",
       "    .dataframe tbody tr th {\n",
       "        vertical-align: top;\n",
       "    }\n",
       "\n",
       "    .dataframe thead th {\n",
       "        text-align: right;\n",
       "    }\n",
       "</style>\n",
       "<table border=\"1\" class=\"dataframe\">\n",
       "  <thead>\n",
       "    <tr style=\"text-align: right;\">\n",
       "      <th></th>\n",
       "      <th>age</th>\n",
       "      <th>sex</th>\n",
       "      <th>cp</th>\n",
       "      <th>trestbps</th>\n",
       "      <th>chol</th>\n",
       "      <th>fbs</th>\n",
       "      <th>restecg</th>\n",
       "      <th>thalach</th>\n",
       "      <th>exang</th>\n",
       "      <th>oldpeak</th>\n",
       "      <th>slope</th>\n",
       "      <th>ca</th>\n",
       "      <th>thal</th>\n",
       "      <th>target</th>\n",
       "    </tr>\n",
       "  </thead>\n",
       "  <tbody>\n",
       "    <tr>\n",
       "      <th>0</th>\n",
       "      <td>63</td>\n",
       "      <td>1</td>\n",
       "      <td>3</td>\n",
       "      <td>145</td>\n",
       "      <td>233</td>\n",
       "      <td>1</td>\n",
       "      <td>0</td>\n",
       "      <td>150</td>\n",
       "      <td>0</td>\n",
       "      <td>2.3</td>\n",
       "      <td>0</td>\n",
       "      <td>0</td>\n",
       "      <td>1</td>\n",
       "      <td>1</td>\n",
       "    </tr>\n",
       "    <tr>\n",
       "      <th>1</th>\n",
       "      <td>37</td>\n",
       "      <td>1</td>\n",
       "      <td>2</td>\n",
       "      <td>130</td>\n",
       "      <td>250</td>\n",
       "      <td>0</td>\n",
       "      <td>1</td>\n",
       "      <td>187</td>\n",
       "      <td>0</td>\n",
       "      <td>3.5</td>\n",
       "      <td>0</td>\n",
       "      <td>0</td>\n",
       "      <td>2</td>\n",
       "      <td>1</td>\n",
       "    </tr>\n",
       "    <tr>\n",
       "      <th>2</th>\n",
       "      <td>41</td>\n",
       "      <td>0</td>\n",
       "      <td>1</td>\n",
       "      <td>130</td>\n",
       "      <td>204</td>\n",
       "      <td>0</td>\n",
       "      <td>0</td>\n",
       "      <td>172</td>\n",
       "      <td>0</td>\n",
       "      <td>1.4</td>\n",
       "      <td>2</td>\n",
       "      <td>0</td>\n",
       "      <td>2</td>\n",
       "      <td>1</td>\n",
       "    </tr>\n",
       "    <tr>\n",
       "      <th>3</th>\n",
       "      <td>56</td>\n",
       "      <td>1</td>\n",
       "      <td>1</td>\n",
       "      <td>120</td>\n",
       "      <td>236</td>\n",
       "      <td>0</td>\n",
       "      <td>1</td>\n",
       "      <td>178</td>\n",
       "      <td>0</td>\n",
       "      <td>0.8</td>\n",
       "      <td>2</td>\n",
       "      <td>0</td>\n",
       "      <td>2</td>\n",
       "      <td>1</td>\n",
       "    </tr>\n",
       "    <tr>\n",
       "      <th>4</th>\n",
       "      <td>57</td>\n",
       "      <td>0</td>\n",
       "      <td>0</td>\n",
       "      <td>120</td>\n",
       "      <td>354</td>\n",
       "      <td>0</td>\n",
       "      <td>1</td>\n",
       "      <td>163</td>\n",
       "      <td>1</td>\n",
       "      <td>0.6</td>\n",
       "      <td>2</td>\n",
       "      <td>0</td>\n",
       "      <td>2</td>\n",
       "      <td>1</td>\n",
       "    </tr>\n",
       "  </tbody>\n",
       "</table>\n",
       "</div>"
      ],
      "text/plain": [
       "   age  sex  cp  trestbps  chol  fbs  restecg  thalach  exang  oldpeak  slope  \\\n",
       "0   63    1   3       145   233    1        0      150      0      2.3      0   \n",
       "1   37    1   2       130   250    0        1      187      0      3.5      0   \n",
       "2   41    0   1       130   204    0        0      172      0      1.4      2   \n",
       "3   56    1   1       120   236    0        1      178      0      0.8      2   \n",
       "4   57    0   0       120   354    0        1      163      1      0.6      2   \n",
       "\n",
       "   ca  thal  target  \n",
       "0   0     1       1  \n",
       "1   0     2       1  \n",
       "2   0     2       1  \n",
       "3   0     2       1  \n",
       "4   0     2       1  "
      ]
     },
     "execution_count": 4,
     "metadata": {},
     "output_type": "execute_result"
    }
   ],
   "source": [
    "data.head()"
   ]
  },
  {
   "cell_type": "markdown",
   "id": "c4509662-8eb2-4f50-9c0e-e8039aecab15",
   "metadata": {
    "scrolled": true
   },
   "source": [
    "Certain categorical variables, such as cp (chest pain), thal, and ca, have been converted into dummy variables\n",
    "Some numerical variables like age, chol, trestbps, thalach and oldpeak will require normalization"
   ]
  },
  {
   "cell_type": "markdown",
   "id": "154d4930-6065-4176-b35d-b79e16d243be",
   "metadata": {},
   "source": [
    "## Creating dummy variables out of categorical variables"
   ]
  },
  {
   "cell_type": "code",
   "execution_count": 5,
   "id": "2d909bba-e046-4b19-a763-00d76b3179b4",
   "metadata": {},
   "outputs": [],
   "source": [
    "data = pd.get_dummies(data, columns = ['sex','cp','fbs', 'restecg','exang','slope',\n",
    "                        'ca','thal'])"
   ]
  },
  {
   "cell_type": "markdown",
   "id": "5c72d33c-0c65-4669-9936-d33b0dae2c29",
   "metadata": {},
   "source": [
    "## Standardizing numerical variables"
   ]
  },
  {
   "cell_type": "code",
   "execution_count": 6,
   "id": "58756e6d-f5af-4697-ba4a-8c37292ee1ad",
   "metadata": {},
   "outputs": [],
   "source": [
    "standardScaler = StandardScaler()\n",
    "columns_to_scale = ['age','trestbps','chol','thalach','oldpeak']\n",
    "data[columns_to_scale] = standardScaler.fit_transform(data[columns_to_scale])"
   ]
  },
  {
   "cell_type": "code",
   "execution_count": 7,
   "id": "34daed12-8ed5-4205-897b-771c6db88477",
   "metadata": {},
   "outputs": [
    {
     "data": {
      "text/html": [
       "<div>\n",
       "<style scoped>\n",
       "    .dataframe tbody tr th:only-of-type {\n",
       "        vertical-align: middle;\n",
       "    }\n",
       "\n",
       "    .dataframe tbody tr th {\n",
       "        vertical-align: top;\n",
       "    }\n",
       "\n",
       "    .dataframe thead th {\n",
       "        text-align: right;\n",
       "    }\n",
       "</style>\n",
       "<table border=\"1\" class=\"dataframe\">\n",
       "  <thead>\n",
       "    <tr style=\"text-align: right;\">\n",
       "      <th></th>\n",
       "      <th>age</th>\n",
       "      <th>trestbps</th>\n",
       "      <th>chol</th>\n",
       "      <th>thalach</th>\n",
       "      <th>oldpeak</th>\n",
       "      <th>target</th>\n",
       "      <th>sex_0</th>\n",
       "      <th>sex_1</th>\n",
       "      <th>cp_0</th>\n",
       "      <th>cp_1</th>\n",
       "      <th>...</th>\n",
       "      <th>slope_2</th>\n",
       "      <th>ca_0</th>\n",
       "      <th>ca_1</th>\n",
       "      <th>ca_2</th>\n",
       "      <th>ca_3</th>\n",
       "      <th>ca_4</th>\n",
       "      <th>thal_0</th>\n",
       "      <th>thal_1</th>\n",
       "      <th>thal_2</th>\n",
       "      <th>thal_3</th>\n",
       "    </tr>\n",
       "  </thead>\n",
       "  <tbody>\n",
       "    <tr>\n",
       "      <th>0</th>\n",
       "      <td>0.952197</td>\n",
       "      <td>0.763956</td>\n",
       "      <td>-0.256334</td>\n",
       "      <td>0.015443</td>\n",
       "      <td>1.087338</td>\n",
       "      <td>1</td>\n",
       "      <td>False</td>\n",
       "      <td>True</td>\n",
       "      <td>False</td>\n",
       "      <td>False</td>\n",
       "      <td>...</td>\n",
       "      <td>False</td>\n",
       "      <td>True</td>\n",
       "      <td>False</td>\n",
       "      <td>False</td>\n",
       "      <td>False</td>\n",
       "      <td>False</td>\n",
       "      <td>False</td>\n",
       "      <td>True</td>\n",
       "      <td>False</td>\n",
       "      <td>False</td>\n",
       "    </tr>\n",
       "    <tr>\n",
       "      <th>1</th>\n",
       "      <td>-1.915313</td>\n",
       "      <td>-0.092738</td>\n",
       "      <td>0.072199</td>\n",
       "      <td>1.633471</td>\n",
       "      <td>2.122573</td>\n",
       "      <td>1</td>\n",
       "      <td>False</td>\n",
       "      <td>True</td>\n",
       "      <td>False</td>\n",
       "      <td>False</td>\n",
       "      <td>...</td>\n",
       "      <td>False</td>\n",
       "      <td>True</td>\n",
       "      <td>False</td>\n",
       "      <td>False</td>\n",
       "      <td>False</td>\n",
       "      <td>False</td>\n",
       "      <td>False</td>\n",
       "      <td>False</td>\n",
       "      <td>True</td>\n",
       "      <td>False</td>\n",
       "    </tr>\n",
       "    <tr>\n",
       "      <th>2</th>\n",
       "      <td>-1.474158</td>\n",
       "      <td>-0.092738</td>\n",
       "      <td>-0.816773</td>\n",
       "      <td>0.977514</td>\n",
       "      <td>0.310912</td>\n",
       "      <td>1</td>\n",
       "      <td>True</td>\n",
       "      <td>False</td>\n",
       "      <td>False</td>\n",
       "      <td>True</td>\n",
       "      <td>...</td>\n",
       "      <td>True</td>\n",
       "      <td>True</td>\n",
       "      <td>False</td>\n",
       "      <td>False</td>\n",
       "      <td>False</td>\n",
       "      <td>False</td>\n",
       "      <td>False</td>\n",
       "      <td>False</td>\n",
       "      <td>True</td>\n",
       "      <td>False</td>\n",
       "    </tr>\n",
       "    <tr>\n",
       "      <th>3</th>\n",
       "      <td>0.180175</td>\n",
       "      <td>-0.663867</td>\n",
       "      <td>-0.198357</td>\n",
       "      <td>1.239897</td>\n",
       "      <td>-0.206705</td>\n",
       "      <td>1</td>\n",
       "      <td>False</td>\n",
       "      <td>True</td>\n",
       "      <td>False</td>\n",
       "      <td>True</td>\n",
       "      <td>...</td>\n",
       "      <td>True</td>\n",
       "      <td>True</td>\n",
       "      <td>False</td>\n",
       "      <td>False</td>\n",
       "      <td>False</td>\n",
       "      <td>False</td>\n",
       "      <td>False</td>\n",
       "      <td>False</td>\n",
       "      <td>True</td>\n",
       "      <td>False</td>\n",
       "    </tr>\n",
       "    <tr>\n",
       "      <th>4</th>\n",
       "      <td>0.290464</td>\n",
       "      <td>-0.663867</td>\n",
       "      <td>2.082050</td>\n",
       "      <td>0.583939</td>\n",
       "      <td>-0.379244</td>\n",
       "      <td>1</td>\n",
       "      <td>True</td>\n",
       "      <td>False</td>\n",
       "      <td>True</td>\n",
       "      <td>False</td>\n",
       "      <td>...</td>\n",
       "      <td>True</td>\n",
       "      <td>True</td>\n",
       "      <td>False</td>\n",
       "      <td>False</td>\n",
       "      <td>False</td>\n",
       "      <td>False</td>\n",
       "      <td>False</td>\n",
       "      <td>False</td>\n",
       "      <td>True</td>\n",
       "      <td>False</td>\n",
       "    </tr>\n",
       "  </tbody>\n",
       "</table>\n",
       "<p>5 rows × 31 columns</p>\n",
       "</div>"
      ],
      "text/plain": [
       "        age  trestbps      chol   thalach   oldpeak  target  sex_0  sex_1  \\\n",
       "0  0.952197  0.763956 -0.256334  0.015443  1.087338       1  False   True   \n",
       "1 -1.915313 -0.092738  0.072199  1.633471  2.122573       1  False   True   \n",
       "2 -1.474158 -0.092738 -0.816773  0.977514  0.310912       1   True  False   \n",
       "3  0.180175 -0.663867 -0.198357  1.239897 -0.206705       1  False   True   \n",
       "4  0.290464 -0.663867  2.082050  0.583939 -0.379244       1   True  False   \n",
       "\n",
       "    cp_0   cp_1  ...  slope_2  ca_0   ca_1   ca_2   ca_3   ca_4  thal_0  \\\n",
       "0  False  False  ...    False  True  False  False  False  False   False   \n",
       "1  False  False  ...    False  True  False  False  False  False   False   \n",
       "2  False   True  ...     True  True  False  False  False  False   False   \n",
       "3  False   True  ...     True  True  False  False  False  False   False   \n",
       "4   True  False  ...     True  True  False  False  False  False   False   \n",
       "\n",
       "   thal_1  thal_2  thal_3  \n",
       "0    True   False   False  \n",
       "1   False    True   False  \n",
       "2   False    True   False  \n",
       "3   False    True   False  \n",
       "4   False    True   False  \n",
       "\n",
       "[5 rows x 31 columns]"
      ]
     },
     "execution_count": 7,
     "metadata": {},
     "output_type": "execute_result"
    }
   ],
   "source": [
    "data.head()"
   ]
  },
  {
   "cell_type": "code",
   "execution_count": 8,
   "id": "e3d4fa68-63f1-4fd9-9098-0c452201137b",
   "metadata": {},
   "outputs": [
    {
     "data": {
      "text/plain": [
       "Index(['age', 'trestbps', 'chol', 'thalach', 'oldpeak', 'target', 'sex_0',\n",
       "       'sex_1', 'cp_0', 'cp_1', 'cp_2', 'cp_3', 'fbs_0', 'fbs_1', 'restecg_0',\n",
       "       'restecg_1', 'restecg_2', 'exang_0', 'exang_1', 'slope_0', 'slope_1',\n",
       "       'slope_2', 'ca_0', 'ca_1', 'ca_2', 'ca_3', 'ca_4', 'thal_0', 'thal_1',\n",
       "       'thal_2', 'thal_3'],\n",
       "      dtype='object')"
      ]
     },
     "execution_count": 8,
     "metadata": {},
     "output_type": "execute_result"
    }
   ],
   "source": [
    "data.columns"
   ]
  },
  {
   "cell_type": "code",
   "execution_count": 9,
   "id": "46f6a58e-16dd-4d31-9d1c-e23c3a78f280",
   "metadata": {},
   "outputs": [],
   "source": [
    "# Converting boolean columns to int\n",
    "columns_to_int = ['sex_0','sex_1', 'cp_0', 'cp_1', 'cp_2', 'cp_3', 'fbs_0', 'fbs_1', 'restecg_0',\n",
    "                   'restecg_1', 'restecg_2', 'exang_0', 'exang_1', 'slope_0', 'slope_1',\n",
    "                   'slope_2', 'ca_0', 'ca_1', 'ca_2', 'ca_3', 'ca_4', 'thal_0', 'thal_1',\n",
    "                   'thal_2', 'thal_3']\n",
    "data[columns_to_int] = data[columns_to_int].astype('int64')"
   ]
  },
  {
   "cell_type": "code",
   "execution_count": 10,
   "id": "9a570bea-dc1b-44f9-8fa1-9680fe0e11cd",
   "metadata": {},
   "outputs": [
    {
     "data": {
      "text/html": [
       "<div>\n",
       "<style scoped>\n",
       "    .dataframe tbody tr th:only-of-type {\n",
       "        vertical-align: middle;\n",
       "    }\n",
       "\n",
       "    .dataframe tbody tr th {\n",
       "        vertical-align: top;\n",
       "    }\n",
       "\n",
       "    .dataframe thead th {\n",
       "        text-align: right;\n",
       "    }\n",
       "</style>\n",
       "<table border=\"1\" class=\"dataframe\">\n",
       "  <thead>\n",
       "    <tr style=\"text-align: right;\">\n",
       "      <th></th>\n",
       "      <th>age</th>\n",
       "      <th>trestbps</th>\n",
       "      <th>chol</th>\n",
       "      <th>thalach</th>\n",
       "      <th>oldpeak</th>\n",
       "      <th>target</th>\n",
       "      <th>sex_0</th>\n",
       "      <th>sex_1</th>\n",
       "      <th>cp_0</th>\n",
       "      <th>cp_1</th>\n",
       "      <th>...</th>\n",
       "      <th>slope_2</th>\n",
       "      <th>ca_0</th>\n",
       "      <th>ca_1</th>\n",
       "      <th>ca_2</th>\n",
       "      <th>ca_3</th>\n",
       "      <th>ca_4</th>\n",
       "      <th>thal_0</th>\n",
       "      <th>thal_1</th>\n",
       "      <th>thal_2</th>\n",
       "      <th>thal_3</th>\n",
       "    </tr>\n",
       "  </thead>\n",
       "  <tbody>\n",
       "    <tr>\n",
       "      <th>0</th>\n",
       "      <td>0.952197</td>\n",
       "      <td>0.763956</td>\n",
       "      <td>-0.256334</td>\n",
       "      <td>0.015443</td>\n",
       "      <td>1.087338</td>\n",
       "      <td>1</td>\n",
       "      <td>0</td>\n",
       "      <td>1</td>\n",
       "      <td>0</td>\n",
       "      <td>0</td>\n",
       "      <td>...</td>\n",
       "      <td>0</td>\n",
       "      <td>1</td>\n",
       "      <td>0</td>\n",
       "      <td>0</td>\n",
       "      <td>0</td>\n",
       "      <td>0</td>\n",
       "      <td>0</td>\n",
       "      <td>1</td>\n",
       "      <td>0</td>\n",
       "      <td>0</td>\n",
       "    </tr>\n",
       "    <tr>\n",
       "      <th>1</th>\n",
       "      <td>-1.915313</td>\n",
       "      <td>-0.092738</td>\n",
       "      <td>0.072199</td>\n",
       "      <td>1.633471</td>\n",
       "      <td>2.122573</td>\n",
       "      <td>1</td>\n",
       "      <td>0</td>\n",
       "      <td>1</td>\n",
       "      <td>0</td>\n",
       "      <td>0</td>\n",
       "      <td>...</td>\n",
       "      <td>0</td>\n",
       "      <td>1</td>\n",
       "      <td>0</td>\n",
       "      <td>0</td>\n",
       "      <td>0</td>\n",
       "      <td>0</td>\n",
       "      <td>0</td>\n",
       "      <td>0</td>\n",
       "      <td>1</td>\n",
       "      <td>0</td>\n",
       "    </tr>\n",
       "    <tr>\n",
       "      <th>2</th>\n",
       "      <td>-1.474158</td>\n",
       "      <td>-0.092738</td>\n",
       "      <td>-0.816773</td>\n",
       "      <td>0.977514</td>\n",
       "      <td>0.310912</td>\n",
       "      <td>1</td>\n",
       "      <td>1</td>\n",
       "      <td>0</td>\n",
       "      <td>0</td>\n",
       "      <td>1</td>\n",
       "      <td>...</td>\n",
       "      <td>1</td>\n",
       "      <td>1</td>\n",
       "      <td>0</td>\n",
       "      <td>0</td>\n",
       "      <td>0</td>\n",
       "      <td>0</td>\n",
       "      <td>0</td>\n",
       "      <td>0</td>\n",
       "      <td>1</td>\n",
       "      <td>0</td>\n",
       "    </tr>\n",
       "    <tr>\n",
       "      <th>3</th>\n",
       "      <td>0.180175</td>\n",
       "      <td>-0.663867</td>\n",
       "      <td>-0.198357</td>\n",
       "      <td>1.239897</td>\n",
       "      <td>-0.206705</td>\n",
       "      <td>1</td>\n",
       "      <td>0</td>\n",
       "      <td>1</td>\n",
       "      <td>0</td>\n",
       "      <td>1</td>\n",
       "      <td>...</td>\n",
       "      <td>1</td>\n",
       "      <td>1</td>\n",
       "      <td>0</td>\n",
       "      <td>0</td>\n",
       "      <td>0</td>\n",
       "      <td>0</td>\n",
       "      <td>0</td>\n",
       "      <td>0</td>\n",
       "      <td>1</td>\n",
       "      <td>0</td>\n",
       "    </tr>\n",
       "    <tr>\n",
       "      <th>4</th>\n",
       "      <td>0.290464</td>\n",
       "      <td>-0.663867</td>\n",
       "      <td>2.082050</td>\n",
       "      <td>0.583939</td>\n",
       "      <td>-0.379244</td>\n",
       "      <td>1</td>\n",
       "      <td>1</td>\n",
       "      <td>0</td>\n",
       "      <td>1</td>\n",
       "      <td>0</td>\n",
       "      <td>...</td>\n",
       "      <td>1</td>\n",
       "      <td>1</td>\n",
       "      <td>0</td>\n",
       "      <td>0</td>\n",
       "      <td>0</td>\n",
       "      <td>0</td>\n",
       "      <td>0</td>\n",
       "      <td>0</td>\n",
       "      <td>1</td>\n",
       "      <td>0</td>\n",
       "    </tr>\n",
       "  </tbody>\n",
       "</table>\n",
       "<p>5 rows × 31 columns</p>\n",
       "</div>"
      ],
      "text/plain": [
       "        age  trestbps      chol   thalach   oldpeak  target  sex_0  sex_1  \\\n",
       "0  0.952197  0.763956 -0.256334  0.015443  1.087338       1      0      1   \n",
       "1 -1.915313 -0.092738  0.072199  1.633471  2.122573       1      0      1   \n",
       "2 -1.474158 -0.092738 -0.816773  0.977514  0.310912       1      1      0   \n",
       "3  0.180175 -0.663867 -0.198357  1.239897 -0.206705       1      0      1   \n",
       "4  0.290464 -0.663867  2.082050  0.583939 -0.379244       1      1      0   \n",
       "\n",
       "   cp_0  cp_1  ...  slope_2  ca_0  ca_1  ca_2  ca_3  ca_4  thal_0  thal_1  \\\n",
       "0     0     0  ...        0     1     0     0     0     0       0       1   \n",
       "1     0     0  ...        0     1     0     0     0     0       0       0   \n",
       "2     0     1  ...        1     1     0     0     0     0       0       0   \n",
       "3     0     1  ...        1     1     0     0     0     0       0       0   \n",
       "4     1     0  ...        1     1     0     0     0     0       0       0   \n",
       "\n",
       "   thal_2  thal_3  \n",
       "0       0       0  \n",
       "1       1       0  \n",
       "2       1       0  \n",
       "3       1       0  \n",
       "4       1       0  \n",
       "\n",
       "[5 rows x 31 columns]"
      ]
     },
     "execution_count": 10,
     "metadata": {},
     "output_type": "execute_result"
    }
   ],
   "source": [
    "data.head()"
   ]
  },
  {
   "cell_type": "markdown",
   "id": "6784c0fb-fb8e-4d36-a74e-a91580b36d9c",
   "metadata": {},
   "source": [
    "## Creating training and test datasets"
   ]
  },
  {
   "cell_type": "code",
   "execution_count": 11,
   "id": "ac961eb2-7740-42ea-8350-363a83d3a6d6",
   "metadata": {},
   "outputs": [],
   "source": [
    "y = data['target']\n",
    "X = data.drop(['target'], axis = 1)\n",
    "X_train, X_test, y_train, y_test = train_test_split(X, y, test_size = 0.2, random_state = 42)"
   ]
  },
  {
   "cell_type": "markdown",
   "id": "5af1d871-2dfe-4e54-b779-693077b200b1",
   "metadata": {},
   "source": [
    "## Using the Decision Tree Model"
   ]
  },
  {
   "cell_type": "markdown",
   "id": "05d9c620-c056-4426-98a8-381309bf1cfa",
   "metadata": {},
   "source": [
    "### Finding best parameters for model"
   ]
  },
  {
   "cell_type": "code",
   "execution_count": 12,
   "id": "bf266249-370f-4abd-8525-12b27b82013b",
   "metadata": {},
   "outputs": [
    {
     "name": "stdout",
     "output_type": "stream",
     "text": [
      "Best max features for gini: 29\n",
      "Best max features for entropy: 29\n",
      "Best criterion: gini\n"
     ]
    }
   ],
   "source": [
    "dt_scores = []\n",
    "cr_scores = []\n",
    "for cr in ['gini', 'entropy']:\n",
    "    for i in range(1, len(X.columns) + 1):\n",
    "        dt_classifier = DecisionTreeClassifier(criterion = cr, max_features = i, random_state = 69)\n",
    "        dt_classifier.fit(X_train, y_train)\n",
    "        dt_scores.append(dt_classifier.score(X_test, y_test))\n",
    "    print(f'Best max features for {cr}: {np.argmax(dt_scores)+1}')\n",
    "    cr_scores.append(dt_scores[np.argmax(dt_scores)])\n",
    "print(f'Best criterion: {\"gini\" if not np.argmax(cr_scores) else \"entropy\"}')"
   ]
  },
  {
   "cell_type": "markdown",
   "id": "5b79e210-fe87-44dd-9c20-4763d396918b",
   "metadata": {},
   "source": [
    "### Testing the model"
   ]
  },
  {
   "cell_type": "code",
   "execution_count": 13,
   "id": "263b9ed3-1ae1-4b75-9344-19ae2e82988e",
   "metadata": {},
   "outputs": [
    {
     "name": "stdout",
     "output_type": "stream",
     "text": [
      "Accuracy: 0.8852459016393442\n"
     ]
    }
   ],
   "source": [
    "dt_classifier = DecisionTreeClassifier(criterion = 'gini', max_features = 29, random_state = 69)\n",
    "dt_classifier.fit(X_train, y_train)\n",
    "print(f'Accuracy: {dt_classifier.score(X_test, y_test)}')"
   ]
  },
  {
   "cell_type": "markdown",
   "id": "76db84d1-0483-4ce2-848d-7f00ceac95a7",
   "metadata": {},
   "source": [
    "## Using the Random Forest Model"
   ]
  },
  {
   "cell_type": "markdown",
   "id": "8e20403e-8a21-4e08-a826-76628cb016dd",
   "metadata": {},
   "source": [
    "### Finding best parameters for model"
   ]
  },
  {
   "cell_type": "code",
   "execution_count": 14,
   "id": "98f76b41-40b1-4eb5-8daf-df09d950b153",
   "metadata": {},
   "outputs": [
    {
     "name": "stdout",
     "output_type": "stream",
     "text": [
      " Best parameters: {'n_estimators': 101}\n"
     ]
    }
   ],
   "source": [
    "rf_param_grid = {\n",
    "    'n_estimators': range(1,1000,10)\n",
    "    }\n",
    "rf = RandomForestClassifier()\n",
    "\n",
    "rf_random = RandomizedSearchCV(param_distributions = rf_param_grid, estimator = rf,\n",
    "                              scoring = \"accuracy\", verbose = 0, n_iter = 100, cv = 4)\n",
    "rf_random.fit(X_train, y_train)\n",
    "best_params = rf_random.best_params_\n",
    "print(f' Best parameters: {best_params}')"
   ]
  },
  {
   "cell_type": "markdown",
   "id": "dc955627-b267-42c8-9271-162675705a11",
   "metadata": {},
   "source": [
    "### Finding the accuracy of the model"
   ]
  },
  {
   "cell_type": "code",
   "execution_count": 15,
   "id": "71f2c749-67e7-4cd2-b329-98f5553afaa6",
   "metadata": {},
   "outputs": [
    {
     "data": {
      "text/plain": [
       "0.8524590163934426"
      ]
     },
     "execution_count": 15,
     "metadata": {},
     "output_type": "execute_result"
    }
   ],
   "source": [
    "rf_random.score(X_test, y_test)"
   ]
  },
  {
   "cell_type": "markdown",
   "id": "db215f14-f919-4859-96ff-0b0e9bfbd466",
   "metadata": {},
   "source": [
    "### Ranking features from least to most influential"
   ]
  },
  {
   "cell_type": "code",
   "execution_count": 16,
   "id": "9ad3b252-963d-48bb-8fe6-4ac784998de6",
   "metadata": {},
   "outputs": [
    {
     "data": {
      "text/plain": [
       "<Axes: ylabel='feature'>"
      ]
     },
     "execution_count": 16,
     "metadata": {},
     "output_type": "execute_result"
    },
    {
     "data": {
      "image/png": "[encoded data removed]",
      "text/plain": [
       "<Figure size 1000x700 with 1 Axes>"
      ]
     },
     "metadata": {},
     "output_type": "display_data"
    }
   ],
   "source": [
    "def feature_imp(df,model):\n",
    "    fi = pd.DataFrame(columns = ['feature', 'importance'])\n",
    "    fi['feature'] = df.columns\n",
    "    fi['importance'] = model.best_estimator_.feature_importances_\n",
    "    return fi.sort_values(by = 'importance', ascending = False)\n",
    "feature_imp(X_train, rf_random).plot('feature', 'importance', 'barh', figsize = (10,7), legend = False)"
   ]
  },
  {
   "cell_type": "markdown",
   "id": "382761fd-8bd5-4f0c-8f77-93ffb1aa03f1",
   "metadata": {},
   "source": [
    "From this chart, we can see that cp_0 (Chest Pain) is the most influential feature from the dataset."
   ]
  },
  {
   "cell_type": "markdown",
   "id": "5ecf3b5c-2d4f-4faf-aa97-26f385c4eb92",
   "metadata": {},
   "source": [
    "## Using the K Neighbors Classifier Model"
   ]
  },
  {
   "cell_type": "markdown",
   "id": "2d2cd5b0-ec4c-418a-b690-9c0fae2a21e6",
   "metadata": {},
   "source": [
    "For this model, it did not accept dataframes so I had to convert the training and testing datasets to arrays for them to be used properly in the model"
   ]
  },
  {
   "cell_type": "code",
   "execution_count": 17,
   "id": "a160c67a-3946-47be-b427-280ee37f21dd",
   "metadata": {},
   "outputs": [],
   "source": [
    "X_train_np = X_train.to_numpy()\n",
    "X_test_np = X_test.to_numpy()\n",
    "y_train_np = y_train.to_numpy()\n",
    "y_test_np = y_test.to_numpy()"
   ]
  },
  {
   "cell_type": "markdown",
   "id": "97ad8864-313c-4b0f-afed-1f2f904cb383",
   "metadata": {},
   "source": [
    "### Finding best parameters for model"
   ]
  },
  {
   "cell_type": "code",
   "execution_count": 18,
   "id": "155da1df-5ebd-4e27-b02d-22e3c1263d5a",
   "metadata": {},
   "outputs": [
    {
     "name": "stdout",
     "output_type": "stream",
     "text": [
      "Best choice of k: 8\n"
     ]
    }
   ],
   "source": [
    "knn_scores = []\n",
    "for k in range(1,40):\n",
    "    knn_classifier = KNeighborsClassifier(n_neighbors = k)\n",
    "    knn_classifier.fit(X_train_np, y_train_np)\n",
    "    knn_scores.append(knn_classifier.score(X_test_np, y_test_np))\n",
    "print(f'Best choice of k: {np.argmax(knn_scores)+1}')"
   ]
  },
  {
   "cell_type": "markdown",
   "id": "99f41076-8ab9-4776-a92d-7a2c2e2fc424",
   "metadata": {},
   "source": [
    "### Testing the model"
   ]
  },
  {
   "cell_type": "code",
   "execution_count": 19,
   "id": "869aa96b-8e95-4816-8480-76c5c82e5391",
   "metadata": {},
   "outputs": [
    {
     "name": "stdout",
     "output_type": "stream",
     "text": [
      "Accuracy: 0.9180327868852459\n"
     ]
    }
   ],
   "source": [
    "k=8\n",
    "knn_classifier = KNeighborsClassifier(n_neighbors = k)\n",
    "knn_classifier.fit(X_train_np, y_train_np)\n",
    "y_pred = knn_classifier.predict(X_test_np)\n",
    "print(f'Accuracy: {np.sum(y_pred == y_test_np)/len(y_test)}')"
   ]
  },
  {
   "cell_type": "markdown",
   "id": "28993413-d34c-48b6-a197-cedfaa177d7c",
   "metadata": {},
   "source": [
    "## Using Support Vector Machine Model"
   ]
  },
  {
   "cell_type": "markdown",
   "id": "6407b58e-3728-4422-b567-0d991bf5a77e",
   "metadata": {},
   "source": [
    "### Finding best parameters for SV Classifier"
   ]
  },
  {
   "cell_type": "code",
   "execution_count": 20,
   "id": "547f7444-6ad3-4da8-bb2d-44a59abc6a1a",
   "metadata": {},
   "outputs": [
    {
     "name": "stdout",
     "output_type": "stream",
     "text": [
      "Best choice of c for linear: 1\n",
      " Best polynomial score: 5\n",
      " Best polynomial score: 5\n",
      " Best polynomial score: 6\n",
      " Best polynomial score: 3\n",
      " Best polynomial score: 7\n",
      " Best polynomial score: 7\n",
      " Best polynomial score: 7\n",
      " Best polynomial score: 7\n",
      " Best polynomial score: 7\n",
      " Best polynomial score: 7\n",
      "Best choice of c for poly: 1\n",
      "Best choice of c for rbf: 1\n",
      "Best choice of c for sigmoid: 1\n",
      "Best choice of k: rbf\n"
     ]
    }
   ],
   "source": [
    "svc_scores = []\n",
    "kernels = ['linear', 'poly', 'rbf', 'sigmoid']\n",
    "for i in range(len(kernels)):\n",
    "    svc_scores_c = []\n",
    "    for ch in range(1,11):\n",
    "        if kernels[i] == 'poly':\n",
    "            svc_scores_poly=[]\n",
    "            for d in range(3,10):\n",
    "                svc_classifier = SVC(kernel = kernels[i], C = ch, degree = d)\n",
    "                svc_classifier.fit(X_train, y_train)\n",
    "                svc_scores_poly.append(svc_classifier.score(X_test, y_test))\n",
    "            print(f' Best polynomial score: {np.argmax(svc_scores_poly)+3}')\n",
    "            svc_scores_c.append(svc_scores_poly[np.argmax(svc_scores_poly)])\n",
    "        else:\n",
    "            svc_classifier = SVC(kernel = kernels[i], C = ch)\n",
    "            svc_classifier.fit(X_train, y_train)\n",
    "            svc_scores_c.append(svc_classifier.score(X_test, y_test))\n",
    "    print(f'Best choice of c for {kernels[i]}: {np.argmax(svc_scores_c)+1}')\n",
    "    svc_scores.append(svc_scores_c[np.argmax(svc_scores_c)])\n",
    "print(f'Best choice of k: {kernels[np.argmax(svc_scores)]}')"
   ]
  },
  {
   "cell_type": "markdown",
   "id": "3719ac87-b34a-4d28-b73f-841b49ca9b11",
   "metadata": {},
   "source": [
    "### Testing the model"
   ]
  },
  {
   "cell_type": "code",
   "execution_count": 21,
   "id": "ce054c55-aea3-41fe-a9b0-e61f71c7d008",
   "metadata": {},
   "outputs": [
    {
     "name": "stdout",
     "output_type": "stream",
     "text": [
      "Accuracy: 0.9016393442622951\n"
     ]
    }
   ],
   "source": [
    "svc_classifier = SVC(kernel = 'rbf', C=1)\n",
    "svc_classifier.fit(X_train, y_train)\n",
    "print(f'Accuracy: {svc_classifier.score(X_test,y_test)}')"
   ]
  },
  {
   "cell_type": "markdown",
   "id": "3707c57e-2b90-451d-ad6b-5652c612ee37",
   "metadata": {},
   "source": [
    "## Testing Artificial Neural Networks with Tensorflow and Keras"
   ]
  },
  {
   "cell_type": "code",
   "execution_count": 22,
   "id": "2927900a-b01f-44df-8ab5-5f626470785d",
   "metadata": {
    "scrolled": true
   },
   "outputs": [
    {
     "name": "stdout",
     "output_type": "stream",
     "text": [
      "WARNING:tensorflow:From C:\\Users\\Ramon Antonio\\AppData\\Local\\Programs\\Python\\Python310\\lib\\site-packages\\keras\\src\\losses.py:2976: The name tf.losses.sparse_softmax_cross_entropy is deprecated. Please use tf.compat.v1.losses.sparse_softmax_cross_entropy instead.\n",
      "\n"
     ]
    }
   ],
   "source": [
    "from tensorflow import keras\n",
    "import tensorflow as tf\n",
    "from tensorflow.keras import layers\n",
    "from keras.layers import Dropout"
   ]
  },
  {
   "cell_type": "code",
   "execution_count": 23,
   "id": "e51ce1ab-e6c8-4fdc-81d8-ebd98d6e7be7",
   "metadata": {},
   "outputs": [
    {
     "name": "stdout",
     "output_type": "stream",
     "text": [
      "WARNING:tensorflow:From C:\\Users\\Ramon Antonio\\AppData\\Local\\Programs\\Python\\Python310\\lib\\site-packages\\keras\\src\\backend.py:873: The name tf.get_default_graph is deprecated. Please use tf.compat.v1.get_default_graph instead.\n",
      "\n"
     ]
    }
   ],
   "source": [
    "model = tf.keras.Sequential([\n",
    "    layers.Dense(20, activation = 'relu', name = 'dense1'),\n",
    "    Dropout(0.2),\n",
    "    layers.Dense(20, activation = 'relu', name = 'dense2'),\n",
    "    layers.Dense(20, activation = 'relu', name = 'dense3'),\n",
    "    Dropout(0.5),\n",
    "    layers.Dense(20, activation = 'relu', name = 'dense4'),\n",
    "    layers.Dense(20, activation = 'sigmoid', name = 'fcl'),\n",
    "])"
   ]
  },
  {
   "cell_type": "code",
   "execution_count": 24,
   "id": "b91dc316-4af5-43d0-947b-058b91bbba53",
   "metadata": {},
   "outputs": [],
   "source": [
    "model.compile(\n",
    "    loss = keras.losses.SparseCategoricalCrossentropy(from_logits = True),\n",
    "    optimizer = keras.optimizers.Adam(learning_rate = 0.001),\n",
    "    metrics = ['accuracy']\n",
    ")"
   ]
  },
  {
   "cell_type": "code",
   "execution_count": 25,
   "id": "6ead1199-a442-4521-9958-2e55f6ca5d4e",
   "metadata": {},
   "outputs": [
    {
     "name": "stdout",
     "output_type": "stream",
     "text": [
      "Epoch 1/100\n"
     ]
    },
    {
     "name": "stderr",
     "output_type": "stream",
     "text": [
      "C:\\Users\\Ramon Antonio\\AppData\\Local\\Programs\\Python\\Python310\\lib\\site-packages\\keras\\src\\backend.py:5727: UserWarning: \"`sparse_categorical_crossentropy` received `from_logits=True`, but the `output` argument was produced by a Softmax activation and thus does not represent logits. Was this intended?\n",
      "  output, from_logits = _get_logits(\n"
     ]
    },
    {
     "name": "stdout",
     "output_type": "stream",
     "text": [
      "WARNING:tensorflow:From C:\\Users\\Ramon Antonio\\AppData\\Local\\Programs\\Python\\Python310\\lib\\site-packages\\keras\\src\\utils\\tf_utils.py:492: The name tf.ragged.RaggedTensorValue is deprecated. Please use tf.compat.v1.ragged.RaggedTensorValue instead.\n",
      "\n",
      "WARNING:tensorflow:From C:\\Users\\Ramon Antonio\\AppData\\Local\\Programs\\Python\\Python310\\lib\\site-packages\\keras\\src\\engine\\base_layer_utils.py:384: The name tf.executing_eagerly_outside_functions is deprecated. Please use tf.compat.v1.executing_eagerly_outside_functions instead.\n",
      "\n",
      "8/8 - 3s - loss: 2.9588 - accuracy: 0.1322 - 3s/epoch - 395ms/step\n",
      "Epoch 2/100\n",
      "8/8 - 0s - loss: 2.8064 - accuracy: 0.3017 - 30ms/epoch - 4ms/step\n",
      "Epoch 3/100\n",
      "8/8 - 0s - loss: 2.6006 - accuracy: 0.4628 - 32ms/epoch - 4ms/step\n",
      "Epoch 4/100\n",
      "8/8 - 0s - loss: 2.3692 - accuracy: 0.5248 - 35ms/epoch - 4ms/step\n",
      "Epoch 5/100\n",
      "8/8 - 0s - loss: 2.0272 - accuracy: 0.6033 - 37ms/epoch - 5ms/step\n",
      "Epoch 6/100\n",
      "8/8 - 0s - loss: 1.6028 - accuracy: 0.5992 - 37ms/epoch - 5ms/step\n",
      "Epoch 7/100\n",
      "8/8 - 0s - loss: 1.3268 - accuracy: 0.6157 - 43ms/epoch - 5ms/step\n",
      "Epoch 8/100\n",
      "8/8 - 0s - loss: 1.0824 - accuracy: 0.6116 - 42ms/epoch - 5ms/step\n",
      "Epoch 9/100\n",
      "8/8 - 0s - loss: 0.8853 - accuracy: 0.6570 - 39ms/epoch - 5ms/step\n",
      "Epoch 10/100\n",
      "8/8 - 0s - loss: 0.7788 - accuracy: 0.6322 - 39ms/epoch - 5ms/step\n",
      "Epoch 11/100\n",
      "8/8 - 0s - loss: 0.7215 - accuracy: 0.7190 - 40ms/epoch - 5ms/step\n",
      "Epoch 12/100\n",
      "8/8 - 0s - loss: 0.6933 - accuracy: 0.6694 - 39ms/epoch - 5ms/step\n",
      "Epoch 13/100\n",
      "8/8 - 0s - loss: 0.7869 - accuracy: 0.6612 - 36ms/epoch - 4ms/step\n",
      "Epoch 14/100\n",
      "8/8 - 0s - loss: 0.6617 - accuracy: 0.7025 - 35ms/epoch - 4ms/step\n",
      "Epoch 15/100\n",
      "8/8 - 0s - loss: 0.5822 - accuracy: 0.7438 - 29ms/epoch - 4ms/step\n",
      "Epoch 16/100\n",
      "8/8 - 0s - loss: 0.6054 - accuracy: 0.7149 - 27ms/epoch - 3ms/step\n",
      "Epoch 17/100\n",
      "8/8 - 0s - loss: 0.6079 - accuracy: 0.7603 - 28ms/epoch - 3ms/step\n",
      "Epoch 18/100\n",
      "8/8 - 0s - loss: 0.5709 - accuracy: 0.7603 - 31ms/epoch - 4ms/step\n",
      "Epoch 19/100\n",
      "8/8 - 0s - loss: 0.5886 - accuracy: 0.6901 - 29ms/epoch - 4ms/step\n",
      "Epoch 20/100\n",
      "8/8 - 0s - loss: 0.5442 - accuracy: 0.7686 - 31ms/epoch - 4ms/step\n",
      "Epoch 21/100\n",
      "8/8 - 0s - loss: 0.4929 - accuracy: 0.8099 - 32ms/epoch - 4ms/step\n",
      "Epoch 22/100\n",
      "8/8 - 0s - loss: 0.5381 - accuracy: 0.7727 - 35ms/epoch - 4ms/step\n",
      "Epoch 23/100\n",
      "8/8 - 0s - loss: 0.4848 - accuracy: 0.7686 - 32ms/epoch - 4ms/step\n",
      "Epoch 24/100\n",
      "8/8 - 0s - loss: 0.5300 - accuracy: 0.7727 - 38ms/epoch - 5ms/step\n",
      "Epoch 25/100\n",
      "8/8 - 0s - loss: 0.4818 - accuracy: 0.7934 - 34ms/epoch - 4ms/step\n",
      "Epoch 26/100\n",
      "8/8 - 0s - loss: 0.4389 - accuracy: 0.8099 - 31ms/epoch - 4ms/step\n",
      "Epoch 27/100\n",
      "8/8 - 0s - loss: 0.5039 - accuracy: 0.7810 - 32ms/epoch - 4ms/step\n",
      "Epoch 28/100\n",
      "8/8 - 0s - loss: 0.4492 - accuracy: 0.8058 - 35ms/epoch - 4ms/step\n",
      "Epoch 29/100\n",
      "8/8 - 0s - loss: 0.4721 - accuracy: 0.7934 - 31ms/epoch - 4ms/step\n",
      "Epoch 30/100\n",
      "8/8 - 0s - loss: 0.4325 - accuracy: 0.8017 - 32ms/epoch - 4ms/step\n",
      "Epoch 31/100\n",
      "8/8 - 0s - loss: 0.4725 - accuracy: 0.7645 - 33ms/epoch - 4ms/step\n",
      "Epoch 32/100\n",
      "8/8 - 0s - loss: 0.4798 - accuracy: 0.8182 - 30ms/epoch - 4ms/step\n",
      "Epoch 33/100\n",
      "8/8 - 0s - loss: 0.4289 - accuracy: 0.8223 - 29ms/epoch - 4ms/step\n",
      "Epoch 34/100\n",
      "8/8 - 0s - loss: 0.4892 - accuracy: 0.8099 - 32ms/epoch - 4ms/step\n",
      "Epoch 35/100\n",
      "8/8 - 0s - loss: 0.4618 - accuracy: 0.8099 - 29ms/epoch - 4ms/step\n",
      "Epoch 36/100\n",
      "8/8 - 0s - loss: 0.4328 - accuracy: 0.8347 - 32ms/epoch - 4ms/step\n",
      "Epoch 37/100\n",
      "8/8 - 0s - loss: 0.4586 - accuracy: 0.7975 - 30ms/epoch - 4ms/step\n",
      "Epoch 38/100\n",
      "8/8 - 0s - loss: 0.5028 - accuracy: 0.8017 - 29ms/epoch - 4ms/step\n",
      "Epoch 39/100\n",
      "8/8 - 0s - loss: 0.4537 - accuracy: 0.8058 - 35ms/epoch - 4ms/step\n",
      "Epoch 40/100\n",
      "8/8 - 0s - loss: 0.4625 - accuracy: 0.8099 - 37ms/epoch - 5ms/step\n",
      "Epoch 41/100\n",
      "8/8 - 0s - loss: 0.4700 - accuracy: 0.8264 - 42ms/epoch - 5ms/step\n",
      "Epoch 42/100\n",
      "8/8 - 0s - loss: 0.4475 - accuracy: 0.8017 - 38ms/epoch - 5ms/step\n",
      "Epoch 43/100\n",
      "8/8 - 0s - loss: 0.3806 - accuracy: 0.8347 - 39ms/epoch - 5ms/step\n",
      "Epoch 44/100\n",
      "8/8 - 0s - loss: 0.4294 - accuracy: 0.8182 - 38ms/epoch - 5ms/step\n",
      "Epoch 45/100\n",
      "8/8 - 0s - loss: 0.4160 - accuracy: 0.8264 - 38ms/epoch - 5ms/step\n",
      "Epoch 46/100\n",
      "8/8 - 0s - loss: 0.4032 - accuracy: 0.8347 - 37ms/epoch - 5ms/step\n",
      "Epoch 47/100\n",
      "8/8 - 0s - loss: 0.3567 - accuracy: 0.8636 - 38ms/epoch - 5ms/step\n",
      "Epoch 48/100\n",
      "8/8 - 0s - loss: 0.4116 - accuracy: 0.8223 - 30ms/epoch - 4ms/step\n",
      "Epoch 49/100\n",
      "8/8 - 0s - loss: 0.3926 - accuracy: 0.8388 - 29ms/epoch - 4ms/step\n",
      "Epoch 50/100\n",
      "8/8 - 0s - loss: 0.4002 - accuracy: 0.8347 - 29ms/epoch - 4ms/step\n",
      "Epoch 51/100\n",
      "8/8 - 0s - loss: 0.3831 - accuracy: 0.8264 - 31ms/epoch - 4ms/step\n",
      "Epoch 52/100\n",
      "8/8 - 0s - loss: 0.4298 - accuracy: 0.8223 - 30ms/epoch - 4ms/step\n",
      "Epoch 53/100\n",
      "8/8 - 0s - loss: 0.3882 - accuracy: 0.8347 - 31ms/epoch - 4ms/step\n",
      "Epoch 54/100\n",
      "8/8 - 0s - loss: 0.4153 - accuracy: 0.8471 - 32ms/epoch - 4ms/step\n",
      "Epoch 55/100\n",
      "8/8 - 0s - loss: 0.3605 - accuracy: 0.8595 - 31ms/epoch - 4ms/step\n",
      "Epoch 56/100\n",
      "8/8 - 0s - loss: 0.4111 - accuracy: 0.8347 - 30ms/epoch - 4ms/step\n",
      "Epoch 57/100\n",
      "8/8 - 0s - loss: 0.3915 - accuracy: 0.8802 - 36ms/epoch - 4ms/step\n",
      "Epoch 58/100\n",
      "8/8 - 0s - loss: 0.3502 - accuracy: 0.8554 - 36ms/epoch - 4ms/step\n",
      "Epoch 59/100\n",
      "8/8 - 0s - loss: 0.3571 - accuracy: 0.8595 - 39ms/epoch - 5ms/step\n",
      "Epoch 60/100\n",
      "8/8 - 0s - loss: 0.3801 - accuracy: 0.8388 - 35ms/epoch - 4ms/step\n",
      "Epoch 61/100\n",
      "8/8 - 0s - loss: 0.3604 - accuracy: 0.8512 - 31ms/epoch - 4ms/step\n",
      "Epoch 62/100\n",
      "8/8 - 0s - loss: 0.3376 - accuracy: 0.8512 - 32ms/epoch - 4ms/step\n",
      "Epoch 63/100\n",
      "8/8 - 0s - loss: 0.3377 - accuracy: 0.8471 - 28ms/epoch - 3ms/step\n",
      "Epoch 64/100\n",
      "8/8 - 0s - loss: 0.3655 - accuracy: 0.8843 - 29ms/epoch - 4ms/step\n",
      "Epoch 65/100\n",
      "8/8 - 0s - loss: 0.3798 - accuracy: 0.8678 - 43ms/epoch - 5ms/step\n",
      "Epoch 66/100\n",
      "8/8 - 0s - loss: 0.3191 - accuracy: 0.8843 - 33ms/epoch - 4ms/step\n",
      "Epoch 67/100\n",
      "8/8 - 0s - loss: 0.3677 - accuracy: 0.8430 - 28ms/epoch - 3ms/step\n",
      "Epoch 68/100\n",
      "8/8 - 0s - loss: 0.3771 - accuracy: 0.8760 - 32ms/epoch - 4ms/step\n",
      "Epoch 69/100\n",
      "8/8 - 0s - loss: 0.3509 - accuracy: 0.8678 - 33ms/epoch - 4ms/step\n",
      "Epoch 70/100\n",
      "8/8 - 0s - loss: 0.3290 - accuracy: 0.8678 - 30ms/epoch - 4ms/step\n",
      "Epoch 71/100\n",
      "8/8 - 0s - loss: 0.3321 - accuracy: 0.8595 - 28ms/epoch - 3ms/step\n",
      "Epoch 72/100\n",
      "8/8 - 0s - loss: 0.2971 - accuracy: 0.8843 - 34ms/epoch - 4ms/step\n",
      "Epoch 73/100\n",
      "8/8 - 0s - loss: 0.3102 - accuracy: 0.8802 - 37ms/epoch - 5ms/step\n",
      "Epoch 74/100\n",
      "8/8 - 0s - loss: 0.3419 - accuracy: 0.8802 - 37ms/epoch - 5ms/step\n",
      "Epoch 75/100\n",
      "8/8 - 0s - loss: 0.3470 - accuracy: 0.8512 - 37ms/epoch - 5ms/step\n",
      "Epoch 76/100\n",
      "8/8 - 0s - loss: 0.3126 - accuracy: 0.8884 - 40ms/epoch - 5ms/step\n",
      "Epoch 77/100\n",
      "8/8 - 0s - loss: 0.3305 - accuracy: 0.8760 - 37ms/epoch - 5ms/step\n",
      "Epoch 78/100\n",
      "8/8 - 0s - loss: 0.3127 - accuracy: 0.8554 - 38ms/epoch - 5ms/step\n",
      "Epoch 79/100\n",
      "8/8 - 0s - loss: 0.3507 - accuracy: 0.8512 - 39ms/epoch - 5ms/step\n",
      "Epoch 80/100\n",
      "8/8 - 0s - loss: 0.2650 - accuracy: 0.9008 - 34ms/epoch - 4ms/step\n",
      "Epoch 81/100\n",
      "8/8 - 0s - loss: 0.3063 - accuracy: 0.8678 - 29ms/epoch - 4ms/step\n",
      "Epoch 82/100\n",
      "8/8 - 0s - loss: 0.3283 - accuracy: 0.8678 - 31ms/epoch - 4ms/step\n",
      "Epoch 83/100\n",
      "8/8 - 0s - loss: 0.2902 - accuracy: 0.8884 - 31ms/epoch - 4ms/step\n",
      "Epoch 84/100\n",
      "8/8 - 0s - loss: 0.3260 - accuracy: 0.8719 - 32ms/epoch - 4ms/step\n",
      "Epoch 85/100\n",
      "8/8 - 0s - loss: 0.2824 - accuracy: 0.8967 - 31ms/epoch - 4ms/step\n",
      "Epoch 86/100\n",
      "8/8 - 0s - loss: 0.2906 - accuracy: 0.8926 - 29ms/epoch - 4ms/step\n",
      "Epoch 87/100\n",
      "8/8 - 0s - loss: 0.2940 - accuracy: 0.8843 - 36ms/epoch - 5ms/step\n",
      "Epoch 88/100\n",
      "8/8 - 0s - loss: 0.2983 - accuracy: 0.8843 - 30ms/epoch - 4ms/step\n",
      "Epoch 89/100\n",
      "8/8 - 0s - loss: 0.3197 - accuracy: 0.8760 - 31ms/epoch - 4ms/step\n",
      "Epoch 90/100\n",
      "8/8 - 0s - loss: 0.3045 - accuracy: 0.8884 - 30ms/epoch - 4ms/step\n",
      "Epoch 91/100\n",
      "8/8 - 0s - loss: 0.3102 - accuracy: 0.8554 - 33ms/epoch - 4ms/step\n",
      "Epoch 92/100\n",
      "8/8 - 0s - loss: 0.2678 - accuracy: 0.9008 - 31ms/epoch - 4ms/step\n",
      "Epoch 93/100\n",
      "8/8 - 0s - loss: 0.3011 - accuracy: 0.8967 - 28ms/epoch - 3ms/step\n",
      "Epoch 94/100\n",
      "8/8 - 0s - loss: 0.3020 - accuracy: 0.8843 - 29ms/epoch - 4ms/step\n",
      "Epoch 95/100\n",
      "8/8 - 0s - loss: 0.2450 - accuracy: 0.9008 - 27ms/epoch - 3ms/step\n",
      "Epoch 96/100\n",
      "8/8 - 0s - loss: 0.2632 - accuracy: 0.9091 - 28ms/epoch - 3ms/step\n",
      "Epoch 97/100\n",
      "8/8 - 0s - loss: 0.2871 - accuracy: 0.8760 - 33ms/epoch - 4ms/step\n",
      "Epoch 98/100\n",
      "8/8 - 0s - loss: 0.2326 - accuracy: 0.9174 - 34ms/epoch - 4ms/step\n",
      "Epoch 99/100\n",
      "8/8 - 0s - loss: 0.2493 - accuracy: 0.9091 - 40ms/epoch - 5ms/step\n",
      "Epoch 100/100\n",
      "8/8 - 0s - loss: 0.2627 - accuracy: 0.9091 - 35ms/epoch - 4ms/step\n"
     ]
    },
    {
     "name": "stderr",
     "output_type": "stream",
     "text": [
      "C:\\Users\\Ramon Antonio\\AppData\\Local\\Programs\\Python\\Python310\\lib\\site-packages\\keras\\src\\backend.py:5727: UserWarning: \"`sparse_categorical_crossentropy` received `from_logits=True`, but the `output` argument was produced by a Softmax activation and thus does not represent logits. Was this intended?\n",
      "  output, from_logits = _get_logits(\n"
     ]
    },
    {
     "name": "stdout",
     "output_type": "stream",
     "text": [
      "2/2 - 0s - loss: 0.4529 - accuracy: 0.8525 - 459ms/epoch - 229ms/step\n"
     ]
    },
    {
     "data": {
      "text/plain": [
       "[0.45291951298713684, 0.8524590134620667]"
      ]
     },
     "execution_count": 25,
     "metadata": {},
     "output_type": "execute_result"
    }
   ],
   "source": [
    "model.fit(X_train, y_train, batch_size = 32, epochs = 100, verbose = 2)\n",
    "model.evaluate(X_test, y_test, batch_size = 32, verbose = 2)"
   ]
  },
  {
   "cell_type": "markdown",
   "id": "cb8fb2c5-43e0-4697-a0be-028173e946ca",
   "metadata": {},
   "source": [
    "## Extracting the accuracy from the result"
   ]
  },
  {
   "cell_type": "markdown",
   "id": "bec4a2a8-c2af-408c-a147-cecfb3673031",
   "metadata": {},
   "source": [
    "The output of the previous code includes the loss and the accuracy. However, we only want the accuracy.\n",
    "We can access it using a simple list function."
   ]
  },
  {
   "cell_type": "code",
   "execution_count": 26,
   "id": "c78f2bef-cf2c-4074-b2bd-dbff02156614",
   "metadata": {},
   "outputs": [
    {
     "name": "stdout",
     "output_type": "stream",
     "text": [
      "2/2 - 0s - loss: 0.4529 - accuracy: 0.8525 - 49ms/epoch - 25ms/step\n"
     ]
    },
    {
     "data": {
      "text/plain": [
       "list"
      ]
     },
     "execution_count": 26,
     "metadata": {},
     "output_type": "execute_result"
    }
   ],
   "source": [
    "type(model.evaluate(X_test, y_test, batch_size = 32, verbose = 2))"
   ]
  },
  {
   "cell_type": "code",
   "execution_count": 27,
   "id": "17230056-dd4d-4878-87b5-b96f3760c656",
   "metadata": {},
   "outputs": [
    {
     "name": "stdout",
     "output_type": "stream",
     "text": [
      "2/2 - 0s - loss: 0.4529 - accuracy: 0.8525 - 60ms/epoch - 30ms/step\n"
     ]
    }
   ],
   "source": [
    "ann_res = model.evaluate(X_test, y_test, batch_size = 32, verbose = 2)"
   ]
  },
  {
   "cell_type": "code",
   "execution_count": 29,
   "id": "3c1dff03-494c-45d7-8f87-37ef523de468",
   "metadata": {},
   "outputs": [
    {
     "data": {
      "text/plain": [
       "0.8524590134620667"
      ]
     },
     "execution_count": 29,
     "metadata": {},
     "output_type": "execute_result"
    }
   ],
   "source": [
    "ann_acc = ann_res[1]\n",
    "ann_acc"
   ]
  },
  {
   "cell_type": "markdown",
   "id": "76ad534c-7280-4feb-a842-f03f35060021",
   "metadata": {},
   "source": [
    "## Creating a dataframe comparing the accuracy of each model"
   ]
  },
  {
   "cell_type": "code",
   "execution_count": 30,
   "id": "fdf3f53c-eefc-4cf7-aae6-a0ec6b483fb2",
   "metadata": {},
   "outputs": [],
   "source": [
    "dt_acc = dt_classifier.score(X_test, y_test)\n",
    "rf_acc = rf_random.score(X_test, y_test)\n",
    "knn_acc = np.sum(y_pred == y_test_np)/len(y_test)\n",
    "svm_acc = svc_classifier.score(X_test,y_test)"
   ]
  },
  {
   "cell_type": "markdown",
   "id": "40bd67e4-c0c8-4ebe-b52e-381a6e755f9f",
   "metadata": {},
   "source": [
    "Note: The accuracy for artificial neural networks is already assigned earlier in the code"
   ]
  },
  {
   "cell_type": "code",
   "execution_count": 33,
   "id": "040f561e-0db8-4d2b-ab07-89be8be41fad",
   "metadata": {},
   "outputs": [
    {
     "data": {
      "text/html": [
       "<div>\n",
       "<style scoped>\n",
       "    .dataframe tbody tr th:only-of-type {\n",
       "        vertical-align: middle;\n",
       "    }\n",
       "\n",
       "    .dataframe tbody tr th {\n",
       "        vertical-align: top;\n",
       "    }\n",
       "\n",
       "    .dataframe thead th {\n",
       "        text-align: right;\n",
       "    }\n",
       "</style>\n",
       "<table border=\"1\" class=\"dataframe\">\n",
       "  <thead>\n",
       "    <tr style=\"text-align: right;\">\n",
       "      <th></th>\n",
       "      <th>Model</th>\n",
       "      <th>Accuracy</th>\n",
       "    </tr>\n",
       "  </thead>\n",
       "  <tbody>\n",
       "    <tr>\n",
       "      <th>0</th>\n",
       "      <td>Decision Tree</td>\n",
       "      <td>0.885246</td>\n",
       "    </tr>\n",
       "    <tr>\n",
       "      <th>1</th>\n",
       "      <td>Random Forest</td>\n",
       "      <td>0.852459</td>\n",
       "    </tr>\n",
       "    <tr>\n",
       "      <th>2</th>\n",
       "      <td>K-Nearest Neighbors</td>\n",
       "      <td>0.918033</td>\n",
       "    </tr>\n",
       "    <tr>\n",
       "      <th>3</th>\n",
       "      <td>Support Vector Machines</td>\n",
       "      <td>0.901639</td>\n",
       "    </tr>\n",
       "    <tr>\n",
       "      <th>4</th>\n",
       "      <td>Artificial Neural Networks</td>\n",
       "      <td>0.852459</td>\n",
       "    </tr>\n",
       "  </tbody>\n",
       "</table>\n",
       "</div>"
      ],
      "text/plain": [
       "                        Model  Accuracy\n",
       "0               Decision Tree  0.885246\n",
       "1               Random Forest  0.852459\n",
       "2         K-Nearest Neighbors  0.918033\n",
       "3     Support Vector Machines  0.901639\n",
       "4  Artificial Neural Networks  0.852459"
      ]
     },
     "execution_count": 33,
     "metadata": {},
     "output_type": "execute_result"
    }
   ],
   "source": [
    "acc_data = {\n",
    "    'Model': ['Decision Tree', 'Random Forest', 'K-Nearest Neighbors', 'Support Vector Machines', 'Artificial Neural Networks'], \n",
    "    'Accuracy': [dt_acc, rf_acc, knn_acc, svm_acc, ann_acc]\n",
    "}\n",
    "\n",
    "acc_df = pd.DataFrame(acc_data)\n",
    "\n",
    "acc_df"
   ]
  },
  {
   "cell_type": "markdown",
   "id": "acfb79b8-db05-4eeb-9723-56db5bca0a00",
   "metadata": {},
   "source": [
    "From this table, we can see that the K-Nearest Neighbors model has the highest accuracy out of all the models used in this project. The Support Vector Machine model comes in at a close second, also making it viable for this project."
   ]
  }
 ],
 "metadata": {
  "kernelspec": {
   "display_name": "Python 3 (ipykernel)",
   "language": "python",
   "name": "python3"
  },
  "language_info": {
   "codemirror_mode": {
    "name": "ipython",
    "version": 3
   },
   "file_extension": ".py",
   "mimetype": "text/x-python",
   "name": "python",
   "nbconvert_exporter": "python",
   "pygments_lexer": "ipython3",
   "version": "3.10.4"
  }
 },
 "nbformat": 4,
 "nbformat_minor": 5
}
